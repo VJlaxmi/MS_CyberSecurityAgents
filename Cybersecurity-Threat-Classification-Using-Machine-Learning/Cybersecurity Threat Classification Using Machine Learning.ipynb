{
 "cells": [
  {
   "cell_type": "markdown",
   "metadata": {},
   "source": [
    "# ***Cybersecurity Threat Classification Using Machine Learning***"
   ]
  },
  {
   "cell_type": "markdown",
   "metadata": {},
   "source": [
    "With the increasing reliance on digital infrastructure, cyber threats such as malware, DDoS attacks, phishing, and intrusions have become more sophisticated. Detecting these threats in real time is critical for network security and data protection.\n",
    "\n",
    "This project leverages Machine Learning (ML) techniques to classify network traffic as either normal or malicious using the CIC-IDS-2017 dataset. By training models such as Random Forest and Neural Networks, we aim to build an automated threat detection system capable of identifying and mitigating cybersecurity threats with high accuracy."
   ]
  },
  {
   "cell_type": "markdown",
   "metadata": {},
   "source": [
    "# ✅ STEP 1: Import Required Libraries"
   ]
  },
  {
   "cell_type": "code",
   "execution_count": 1,
   "metadata": {},
   "outputs": [],
   "source": [
    "import pandas as pd\n",
    "import numpy as np\n",
    "import glob\n",
    "from sklearn.model_selection import train_test_split\n",
    "from sklearn.preprocessing import StandardScaler, LabelEncoder"
   ]
  },
  {
   "cell_type": "markdown",
   "metadata": {},
   "source": [
    "# ✅ STEP 2: Load & Preprocess the Dataset"
   ]
  },
  {
   "cell_type": "markdown",
   "metadata": {},
   "source": [
    "# **Load the dataset**"
   ]
  },
  {
   "cell_type": "code",
   "execution_count": 2,
   "metadata": {},
   "outputs": [],
   "source": [
    "# Step 1: Load multiple CSV files\n",
    "data_folder = \"CIC-IDS- 2017 Data Set\"  # Update this path\n",
    "csv_files = glob.glob(data_folder + \"/*.csv\")"
   ]
  },
  {
   "cell_type": "code",
   "execution_count": 3,
   "metadata": {},
   "outputs": [
    {
     "name": "stdout",
     "output_type": "stream",
     "text": [
      "Data folder: CIC-IDS- 2017 Data Set\n",
      "CSV files found: ['CIC-IDS- 2017 Data Set\\\\Friday-WorkingHours-Afternoon-DDos.pcap_ISCX.csv', 'CIC-IDS- 2017 Data Set\\\\Friday-WorkingHours-Afternoon-PortScan.pcap_ISCX.csv', 'CIC-IDS- 2017 Data Set\\\\Friday-WorkingHours-Morning.pcap_ISCX.csv', 'CIC-IDS- 2017 Data Set\\\\Monday-WorkingHours.pcap_ISCX.csv', 'CIC-IDS- 2017 Data Set\\\\Thursday-WorkingHours-Afternoon-Infilteration.pcap_ISCX.csv', 'CIC-IDS- 2017 Data Set\\\\Thursday-WorkingHours-Morning-WebAttacks.pcap_ISCX.csv', 'CIC-IDS- 2017 Data Set\\\\Tuesday-WorkingHours.pcap_ISCX.csv', 'CIC-IDS- 2017 Data Set\\\\Wednesday-workingHours.pcap_ISCX.csv']\n"
     ]
    }
   ],
   "source": [
    "print(f\"Data folder: {data_folder}\")\n",
    "print(f\"CSV files found: {csv_files}\")"
   ]
  },
  {
   "cell_type": "markdown",
   "metadata": {},
   "source": [
    "# **Merging the CSV files**"
   ]
  },
  {
   "cell_type": "code",
   "execution_count": 4,
   "metadata": {},
   "outputs": [],
   "source": [
    "# Step 2: Read and merge CSV files\n",
    "df_list = [pd.read_csv(file) for file in csv_files]\n",
    "df = pd.concat(df_list, ignore_index=True)"
   ]
  },
  {
   "cell_type": "code",
   "execution_count": 5,
   "metadata": {},
   "outputs": [
    {
     "data": {
      "text/html": [
       "<div>\n",
       "<style scoped>\n",
       "    .dataframe tbody tr th:only-of-type {\n",
       "        vertical-align: middle;\n",
       "    }\n",
       "\n",
       "    .dataframe tbody tr th {\n",
       "        vertical-align: top;\n",
       "    }\n",
       "\n",
       "    .dataframe thead th {\n",
       "        text-align: right;\n",
       "    }\n",
       "</style>\n",
       "<table border=\"1\" class=\"dataframe\">\n",
       "  <thead>\n",
       "    <tr style=\"text-align: right;\">\n",
       "      <th></th>\n",
       "      <th>Destination Port</th>\n",
       "      <th>Flow Duration</th>\n",
       "      <th>Total Fwd Packets</th>\n",
       "      <th>Total Backward Packets</th>\n",
       "      <th>Total Length of Fwd Packets</th>\n",
       "      <th>Total Length of Bwd Packets</th>\n",
       "      <th>Fwd Packet Length Max</th>\n",
       "      <th>Fwd Packet Length Min</th>\n",
       "      <th>Fwd Packet Length Mean</th>\n",
       "      <th>Fwd Packet Length Std</th>\n",
       "      <th>...</th>\n",
       "      <th>min_seg_size_forward</th>\n",
       "      <th>Active Mean</th>\n",
       "      <th>Active Std</th>\n",
       "      <th>Active Max</th>\n",
       "      <th>Active Min</th>\n",
       "      <th>Idle Mean</th>\n",
       "      <th>Idle Std</th>\n",
       "      <th>Idle Max</th>\n",
       "      <th>Idle Min</th>\n",
       "      <th>Label</th>\n",
       "    </tr>\n",
       "  </thead>\n",
       "  <tbody>\n",
       "    <tr>\n",
       "      <th>0</th>\n",
       "      <td>54865</td>\n",
       "      <td>3</td>\n",
       "      <td>2</td>\n",
       "      <td>0</td>\n",
       "      <td>12</td>\n",
       "      <td>0</td>\n",
       "      <td>6</td>\n",
       "      <td>6</td>\n",
       "      <td>6.0</td>\n",
       "      <td>0.0</td>\n",
       "      <td>...</td>\n",
       "      <td>20</td>\n",
       "      <td>0.0</td>\n",
       "      <td>0.0</td>\n",
       "      <td>0</td>\n",
       "      <td>0</td>\n",
       "      <td>0.0</td>\n",
       "      <td>0.0</td>\n",
       "      <td>0</td>\n",
       "      <td>0</td>\n",
       "      <td>BENIGN</td>\n",
       "    </tr>\n",
       "    <tr>\n",
       "      <th>1</th>\n",
       "      <td>55054</td>\n",
       "      <td>109</td>\n",
       "      <td>1</td>\n",
       "      <td>1</td>\n",
       "      <td>6</td>\n",
       "      <td>6</td>\n",
       "      <td>6</td>\n",
       "      <td>6</td>\n",
       "      <td>6.0</td>\n",
       "      <td>0.0</td>\n",
       "      <td>...</td>\n",
       "      <td>20</td>\n",
       "      <td>0.0</td>\n",
       "      <td>0.0</td>\n",
       "      <td>0</td>\n",
       "      <td>0</td>\n",
       "      <td>0.0</td>\n",
       "      <td>0.0</td>\n",
       "      <td>0</td>\n",
       "      <td>0</td>\n",
       "      <td>BENIGN</td>\n",
       "    </tr>\n",
       "    <tr>\n",
       "      <th>2</th>\n",
       "      <td>55055</td>\n",
       "      <td>52</td>\n",
       "      <td>1</td>\n",
       "      <td>1</td>\n",
       "      <td>6</td>\n",
       "      <td>6</td>\n",
       "      <td>6</td>\n",
       "      <td>6</td>\n",
       "      <td>6.0</td>\n",
       "      <td>0.0</td>\n",
       "      <td>...</td>\n",
       "      <td>20</td>\n",
       "      <td>0.0</td>\n",
       "      <td>0.0</td>\n",
       "      <td>0</td>\n",
       "      <td>0</td>\n",
       "      <td>0.0</td>\n",
       "      <td>0.0</td>\n",
       "      <td>0</td>\n",
       "      <td>0</td>\n",
       "      <td>BENIGN</td>\n",
       "    </tr>\n",
       "    <tr>\n",
       "      <th>3</th>\n",
       "      <td>46236</td>\n",
       "      <td>34</td>\n",
       "      <td>1</td>\n",
       "      <td>1</td>\n",
       "      <td>6</td>\n",
       "      <td>6</td>\n",
       "      <td>6</td>\n",
       "      <td>6</td>\n",
       "      <td>6.0</td>\n",
       "      <td>0.0</td>\n",
       "      <td>...</td>\n",
       "      <td>20</td>\n",
       "      <td>0.0</td>\n",
       "      <td>0.0</td>\n",
       "      <td>0</td>\n",
       "      <td>0</td>\n",
       "      <td>0.0</td>\n",
       "      <td>0.0</td>\n",
       "      <td>0</td>\n",
       "      <td>0</td>\n",
       "      <td>BENIGN</td>\n",
       "    </tr>\n",
       "    <tr>\n",
       "      <th>4</th>\n",
       "      <td>54863</td>\n",
       "      <td>3</td>\n",
       "      <td>2</td>\n",
       "      <td>0</td>\n",
       "      <td>12</td>\n",
       "      <td>0</td>\n",
       "      <td>6</td>\n",
       "      <td>6</td>\n",
       "      <td>6.0</td>\n",
       "      <td>0.0</td>\n",
       "      <td>...</td>\n",
       "      <td>20</td>\n",
       "      <td>0.0</td>\n",
       "      <td>0.0</td>\n",
       "      <td>0</td>\n",
       "      <td>0</td>\n",
       "      <td>0.0</td>\n",
       "      <td>0.0</td>\n",
       "      <td>0</td>\n",
       "      <td>0</td>\n",
       "      <td>BENIGN</td>\n",
       "    </tr>\n",
       "  </tbody>\n",
       "</table>\n",
       "<p>5 rows × 79 columns</p>\n",
       "</div>"
      ],
      "text/plain": [
       "    Destination Port   Flow Duration   Total Fwd Packets  \\\n",
       "0              54865               3                   2   \n",
       "1              55054             109                   1   \n",
       "2              55055              52                   1   \n",
       "3              46236              34                   1   \n",
       "4              54863               3                   2   \n",
       "\n",
       "    Total Backward Packets  Total Length of Fwd Packets  \\\n",
       "0                        0                           12   \n",
       "1                        1                            6   \n",
       "2                        1                            6   \n",
       "3                        1                            6   \n",
       "4                        0                           12   \n",
       "\n",
       "    Total Length of Bwd Packets   Fwd Packet Length Max  \\\n",
       "0                             0                       6   \n",
       "1                             6                       6   \n",
       "2                             6                       6   \n",
       "3                             6                       6   \n",
       "4                             0                       6   \n",
       "\n",
       "    Fwd Packet Length Min   Fwd Packet Length Mean   Fwd Packet Length Std  \\\n",
       "0                       6                      6.0                     0.0   \n",
       "1                       6                      6.0                     0.0   \n",
       "2                       6                      6.0                     0.0   \n",
       "3                       6                      6.0                     0.0   \n",
       "4                       6                      6.0                     0.0   \n",
       "\n",
       "   ...   min_seg_size_forward  Active Mean   Active Std   Active Max  \\\n",
       "0  ...                     20          0.0          0.0            0   \n",
       "1  ...                     20          0.0          0.0            0   \n",
       "2  ...                     20          0.0          0.0            0   \n",
       "3  ...                     20          0.0          0.0            0   \n",
       "4  ...                     20          0.0          0.0            0   \n",
       "\n",
       "    Active Min  Idle Mean   Idle Std   Idle Max   Idle Min   Label  \n",
       "0            0        0.0        0.0          0          0  BENIGN  \n",
       "1            0        0.0        0.0          0          0  BENIGN  \n",
       "2            0        0.0        0.0          0          0  BENIGN  \n",
       "3            0        0.0        0.0          0          0  BENIGN  \n",
       "4            0        0.0        0.0          0          0  BENIGN  \n",
       "\n",
       "[5 rows x 79 columns]"
      ]
     },
     "execution_count": 5,
     "metadata": {},
     "output_type": "execute_result"
    }
   ],
   "source": [
    "df.head()"
   ]
  },
  {
   "cell_type": "code",
   "execution_count": 6,
   "metadata": {},
   "outputs": [
    {
     "data": {
      "text/html": [
       "<div>\n",
       "<style scoped>\n",
       "    .dataframe tbody tr th:only-of-type {\n",
       "        vertical-align: middle;\n",
       "    }\n",
       "\n",
       "    .dataframe tbody tr th {\n",
       "        vertical-align: top;\n",
       "    }\n",
       "\n",
       "    .dataframe thead th {\n",
       "        text-align: right;\n",
       "    }\n",
       "</style>\n",
       "<table border=\"1\" class=\"dataframe\">\n",
       "  <thead>\n",
       "    <tr style=\"text-align: right;\">\n",
       "      <th></th>\n",
       "      <th>Destination Port</th>\n",
       "      <th>Flow Duration</th>\n",
       "      <th>Total Fwd Packets</th>\n",
       "      <th>Total Backward Packets</th>\n",
       "      <th>Total Length of Fwd Packets</th>\n",
       "      <th>Total Length of Bwd Packets</th>\n",
       "      <th>Fwd Packet Length Max</th>\n",
       "      <th>Fwd Packet Length Min</th>\n",
       "      <th>Fwd Packet Length Mean</th>\n",
       "      <th>Fwd Packet Length Std</th>\n",
       "      <th>...</th>\n",
       "      <th>min_seg_size_forward</th>\n",
       "      <th>Active Mean</th>\n",
       "      <th>Active Std</th>\n",
       "      <th>Active Max</th>\n",
       "      <th>Active Min</th>\n",
       "      <th>Idle Mean</th>\n",
       "      <th>Idle Std</th>\n",
       "      <th>Idle Max</th>\n",
       "      <th>Idle Min</th>\n",
       "      <th>Label</th>\n",
       "    </tr>\n",
       "  </thead>\n",
       "  <tbody>\n",
       "    <tr>\n",
       "      <th>2830738</th>\n",
       "      <td>53</td>\n",
       "      <td>32215</td>\n",
       "      <td>4</td>\n",
       "      <td>2</td>\n",
       "      <td>112</td>\n",
       "      <td>152</td>\n",
       "      <td>28</td>\n",
       "      <td>28</td>\n",
       "      <td>28.0</td>\n",
       "      <td>0.00000</td>\n",
       "      <td>...</td>\n",
       "      <td>20</td>\n",
       "      <td>0.0</td>\n",
       "      <td>0.0</td>\n",
       "      <td>0</td>\n",
       "      <td>0</td>\n",
       "      <td>0.0</td>\n",
       "      <td>0.0</td>\n",
       "      <td>0</td>\n",
       "      <td>0</td>\n",
       "      <td>BENIGN</td>\n",
       "    </tr>\n",
       "    <tr>\n",
       "      <th>2830739</th>\n",
       "      <td>53</td>\n",
       "      <td>324</td>\n",
       "      <td>2</td>\n",
       "      <td>2</td>\n",
       "      <td>84</td>\n",
       "      <td>362</td>\n",
       "      <td>42</td>\n",
       "      <td>42</td>\n",
       "      <td>42.0</td>\n",
       "      <td>0.00000</td>\n",
       "      <td>...</td>\n",
       "      <td>20</td>\n",
       "      <td>0.0</td>\n",
       "      <td>0.0</td>\n",
       "      <td>0</td>\n",
       "      <td>0</td>\n",
       "      <td>0.0</td>\n",
       "      <td>0.0</td>\n",
       "      <td>0</td>\n",
       "      <td>0</td>\n",
       "      <td>BENIGN</td>\n",
       "    </tr>\n",
       "    <tr>\n",
       "      <th>2830740</th>\n",
       "      <td>58030</td>\n",
       "      <td>82</td>\n",
       "      <td>2</td>\n",
       "      <td>1</td>\n",
       "      <td>31</td>\n",
       "      <td>6</td>\n",
       "      <td>31</td>\n",
       "      <td>0</td>\n",
       "      <td>15.5</td>\n",
       "      <td>21.92031</td>\n",
       "      <td>...</td>\n",
       "      <td>32</td>\n",
       "      <td>0.0</td>\n",
       "      <td>0.0</td>\n",
       "      <td>0</td>\n",
       "      <td>0</td>\n",
       "      <td>0.0</td>\n",
       "      <td>0.0</td>\n",
       "      <td>0</td>\n",
       "      <td>0</td>\n",
       "      <td>BENIGN</td>\n",
       "    </tr>\n",
       "    <tr>\n",
       "      <th>2830741</th>\n",
       "      <td>53</td>\n",
       "      <td>1048635</td>\n",
       "      <td>6</td>\n",
       "      <td>2</td>\n",
       "      <td>192</td>\n",
       "      <td>256</td>\n",
       "      <td>32</td>\n",
       "      <td>32</td>\n",
       "      <td>32.0</td>\n",
       "      <td>0.00000</td>\n",
       "      <td>...</td>\n",
       "      <td>20</td>\n",
       "      <td>0.0</td>\n",
       "      <td>0.0</td>\n",
       "      <td>0</td>\n",
       "      <td>0</td>\n",
       "      <td>0.0</td>\n",
       "      <td>0.0</td>\n",
       "      <td>0</td>\n",
       "      <td>0</td>\n",
       "      <td>BENIGN</td>\n",
       "    </tr>\n",
       "    <tr>\n",
       "      <th>2830742</th>\n",
       "      <td>53</td>\n",
       "      <td>94939</td>\n",
       "      <td>4</td>\n",
       "      <td>2</td>\n",
       "      <td>188</td>\n",
       "      <td>226</td>\n",
       "      <td>47</td>\n",
       "      <td>47</td>\n",
       "      <td>47.0</td>\n",
       "      <td>0.00000</td>\n",
       "      <td>...</td>\n",
       "      <td>20</td>\n",
       "      <td>0.0</td>\n",
       "      <td>0.0</td>\n",
       "      <td>0</td>\n",
       "      <td>0</td>\n",
       "      <td>0.0</td>\n",
       "      <td>0.0</td>\n",
       "      <td>0</td>\n",
       "      <td>0</td>\n",
       "      <td>BENIGN</td>\n",
       "    </tr>\n",
       "  </tbody>\n",
       "</table>\n",
       "<p>5 rows × 79 columns</p>\n",
       "</div>"
      ],
      "text/plain": [
       "          Destination Port   Flow Duration   Total Fwd Packets  \\\n",
       "2830738                 53           32215                   4   \n",
       "2830739                 53             324                   2   \n",
       "2830740              58030              82                   2   \n",
       "2830741                 53         1048635                   6   \n",
       "2830742                 53           94939                   4   \n",
       "\n",
       "          Total Backward Packets  Total Length of Fwd Packets  \\\n",
       "2830738                        2                          112   \n",
       "2830739                        2                           84   \n",
       "2830740                        1                           31   \n",
       "2830741                        2                          192   \n",
       "2830742                        2                          188   \n",
       "\n",
       "          Total Length of Bwd Packets   Fwd Packet Length Max  \\\n",
       "2830738                           152                      28   \n",
       "2830739                           362                      42   \n",
       "2830740                             6                      31   \n",
       "2830741                           256                      32   \n",
       "2830742                           226                      47   \n",
       "\n",
       "          Fwd Packet Length Min   Fwd Packet Length Mean  \\\n",
       "2830738                      28                     28.0   \n",
       "2830739                      42                     42.0   \n",
       "2830740                       0                     15.5   \n",
       "2830741                      32                     32.0   \n",
       "2830742                      47                     47.0   \n",
       "\n",
       "          Fwd Packet Length Std  ...   min_seg_size_forward  Active Mean  \\\n",
       "2830738                 0.00000  ...                     20          0.0   \n",
       "2830739                 0.00000  ...                     20          0.0   \n",
       "2830740                21.92031  ...                     32          0.0   \n",
       "2830741                 0.00000  ...                     20          0.0   \n",
       "2830742                 0.00000  ...                     20          0.0   \n",
       "\n",
       "          Active Std   Active Max   Active Min  Idle Mean   Idle Std  \\\n",
       "2830738          0.0            0            0        0.0        0.0   \n",
       "2830739          0.0            0            0        0.0        0.0   \n",
       "2830740          0.0            0            0        0.0        0.0   \n",
       "2830741          0.0            0            0        0.0        0.0   \n",
       "2830742          0.0            0            0        0.0        0.0   \n",
       "\n",
       "          Idle Max   Idle Min   Label  \n",
       "2830738          0          0  BENIGN  \n",
       "2830739          0          0  BENIGN  \n",
       "2830740          0          0  BENIGN  \n",
       "2830741          0          0  BENIGN  \n",
       "2830742          0          0  BENIGN  \n",
       "\n",
       "[5 rows x 79 columns]"
      ]
     },
     "execution_count": 6,
     "metadata": {},
     "output_type": "execute_result"
    }
   ],
   "source": [
    "df.tail()"
   ]
  },
  {
   "cell_type": "code",
   "execution_count": 7,
   "metadata": {},
   "outputs": [
    {
     "name": "stdout",
     "output_type": "stream",
     "text": [
      "<class 'pandas.core.frame.DataFrame'>\n",
      "RangeIndex: 2830743 entries, 0 to 2830742\n",
      "Data columns (total 79 columns):\n",
      " #   Column                        Dtype  \n",
      "---  ------                        -----  \n",
      " 0    Destination Port             int64  \n",
      " 1    Flow Duration                int64  \n",
      " 2    Total Fwd Packets            int64  \n",
      " 3    Total Backward Packets       int64  \n",
      " 4   Total Length of Fwd Packets   int64  \n",
      " 5    Total Length of Bwd Packets  int64  \n",
      " 6    Fwd Packet Length Max        int64  \n",
      " 7    Fwd Packet Length Min        int64  \n",
      " 8    Fwd Packet Length Mean       float64\n",
      " 9    Fwd Packet Length Std        float64\n",
      " 10  Bwd Packet Length Max         int64  \n",
      " 11   Bwd Packet Length Min        int64  \n",
      " 12   Bwd Packet Length Mean       float64\n",
      " 13   Bwd Packet Length Std        float64\n",
      " 14  Flow Bytes/s                  float64\n",
      " 15   Flow Packets/s               float64\n",
      " 16   Flow IAT Mean                float64\n",
      " 17   Flow IAT Std                 float64\n",
      " 18   Flow IAT Max                 int64  \n",
      " 19   Flow IAT Min                 int64  \n",
      " 20  Fwd IAT Total                 int64  \n",
      " 21   Fwd IAT Mean                 float64\n",
      " 22   Fwd IAT Std                  float64\n",
      " 23   Fwd IAT Max                  int64  \n",
      " 24   Fwd IAT Min                  int64  \n",
      " 25  Bwd IAT Total                 int64  \n",
      " 26   Bwd IAT Mean                 float64\n",
      " 27   Bwd IAT Std                  float64\n",
      " 28   Bwd IAT Max                  int64  \n",
      " 29   Bwd IAT Min                  int64  \n",
      " 30  Fwd PSH Flags                 int64  \n",
      " 31   Bwd PSH Flags                int64  \n",
      " 32   Fwd URG Flags                int64  \n",
      " 33   Bwd URG Flags                int64  \n",
      " 34   Fwd Header Length            int64  \n",
      " 35   Bwd Header Length            int64  \n",
      " 36  Fwd Packets/s                 float64\n",
      " 37   Bwd Packets/s                float64\n",
      " 38   Min Packet Length            int64  \n",
      " 39   Max Packet Length            int64  \n",
      " 40   Packet Length Mean           float64\n",
      " 41   Packet Length Std            float64\n",
      " 42   Packet Length Variance       float64\n",
      " 43  FIN Flag Count                int64  \n",
      " 44   SYN Flag Count               int64  \n",
      " 45   RST Flag Count               int64  \n",
      " 46   PSH Flag Count               int64  \n",
      " 47   ACK Flag Count               int64  \n",
      " 48   URG Flag Count               int64  \n",
      " 49   CWE Flag Count               int64  \n",
      " 50   ECE Flag Count               int64  \n",
      " 51   Down/Up Ratio                int64  \n",
      " 52   Average Packet Size          float64\n",
      " 53   Avg Fwd Segment Size         float64\n",
      " 54   Avg Bwd Segment Size         float64\n",
      " 55   Fwd Header Length.1          int64  \n",
      " 56  Fwd Avg Bytes/Bulk            int64  \n",
      " 57   Fwd Avg Packets/Bulk         int64  \n",
      " 58   Fwd Avg Bulk Rate            int64  \n",
      " 59   Bwd Avg Bytes/Bulk           int64  \n",
      " 60   Bwd Avg Packets/Bulk         int64  \n",
      " 61  Bwd Avg Bulk Rate             int64  \n",
      " 62  Subflow Fwd Packets           int64  \n",
      " 63   Subflow Fwd Bytes            int64  \n",
      " 64   Subflow Bwd Packets          int64  \n",
      " 65   Subflow Bwd Bytes            int64  \n",
      " 66  Init_Win_bytes_forward        int64  \n",
      " 67   Init_Win_bytes_backward      int64  \n",
      " 68   act_data_pkt_fwd             int64  \n",
      " 69   min_seg_size_forward         int64  \n",
      " 70  Active Mean                   float64\n",
      " 71   Active Std                   float64\n",
      " 72   Active Max                   int64  \n",
      " 73   Active Min                   int64  \n",
      " 74  Idle Mean                     float64\n",
      " 75   Idle Std                     float64\n",
      " 76   Idle Max                     int64  \n",
      " 77   Idle Min                     int64  \n",
      " 78   Label                        object \n",
      "dtypes: float64(24), int64(54), object(1)\n",
      "memory usage: 1.7+ GB\n"
     ]
    }
   ],
   "source": [
    "df.info()"
   ]
  },
  {
   "cell_type": "code",
   "execution_count": 8,
   "metadata": {},
   "outputs": [
    {
     "data": {
      "text/plain": [
       " Destination Port              0\n",
       " Flow Duration                 0\n",
       " Total Fwd Packets             0\n",
       " Total Backward Packets        0\n",
       "Total Length of Fwd Packets    0\n",
       "                              ..\n",
       "Idle Mean                      0\n",
       " Idle Std                      0\n",
       " Idle Max                      0\n",
       " Idle Min                      0\n",
       " Label                         0\n",
       "Length: 79, dtype: int64"
      ]
     },
     "execution_count": 8,
     "metadata": {},
     "output_type": "execute_result"
    }
   ],
   "source": [
    "df.isnull().sum()"
   ]
  },
  {
   "cell_type": "code",
   "execution_count": 9,
   "metadata": {},
   "outputs": [
    {
     "data": {
      "text/plain": [
       "(2830743, 79)"
      ]
     },
     "execution_count": 9,
     "metadata": {},
     "output_type": "execute_result"
    }
   ],
   "source": [
    "df.shape"
   ]
  },
  {
   "cell_type": "code",
   "execution_count": 10,
   "metadata": {},
   "outputs": [],
   "source": [
    "df.dropna(inplace=True)"
   ]
  },
  {
   "cell_type": "code",
   "execution_count": 11,
   "metadata": {},
   "outputs": [
    {
     "data": {
      "text/plain": [
       "(2829385, 79)"
      ]
     },
     "execution_count": 11,
     "metadata": {},
     "output_type": "execute_result"
    }
   ],
   "source": [
    "df.shape"
   ]
  },
  {
   "cell_type": "code",
   "execution_count": 12,
   "metadata": {},
   "outputs": [
    {
     "data": {
      "text/plain": [
       "Index([' Destination Port', ' Flow Duration', ' Total Fwd Packets',\n",
       "       ' Total Backward Packets', 'Total Length of Fwd Packets',\n",
       "       ' Total Length of Bwd Packets', ' Fwd Packet Length Max',\n",
       "       ' Fwd Packet Length Min', ' Fwd Packet Length Mean',\n",
       "       ' Fwd Packet Length Std', 'Bwd Packet Length Max',\n",
       "       ' Bwd Packet Length Min', ' Bwd Packet Length Mean',\n",
       "       ' Bwd Packet Length Std', 'Flow Bytes/s', ' Flow Packets/s',\n",
       "       ' Flow IAT Mean', ' Flow IAT Std', ' Flow IAT Max', ' Flow IAT Min',\n",
       "       'Fwd IAT Total', ' Fwd IAT Mean', ' Fwd IAT Std', ' Fwd IAT Max',\n",
       "       ' Fwd IAT Min', 'Bwd IAT Total', ' Bwd IAT Mean', ' Bwd IAT Std',\n",
       "       ' Bwd IAT Max', ' Bwd IAT Min', 'Fwd PSH Flags', ' Bwd PSH Flags',\n",
       "       ' Fwd URG Flags', ' Bwd URG Flags', ' Fwd Header Length',\n",
       "       ' Bwd Header Length', 'Fwd Packets/s', ' Bwd Packets/s',\n",
       "       ' Min Packet Length', ' Max Packet Length', ' Packet Length Mean',\n",
       "       ' Packet Length Std', ' Packet Length Variance', 'FIN Flag Count',\n",
       "       ' SYN Flag Count', ' RST Flag Count', ' PSH Flag Count',\n",
       "       ' ACK Flag Count', ' URG Flag Count', ' CWE Flag Count',\n",
       "       ' ECE Flag Count', ' Down/Up Ratio', ' Average Packet Size',\n",
       "       ' Avg Fwd Segment Size', ' Avg Bwd Segment Size',\n",
       "       ' Fwd Header Length.1', 'Fwd Avg Bytes/Bulk', ' Fwd Avg Packets/Bulk',\n",
       "       ' Fwd Avg Bulk Rate', ' Bwd Avg Bytes/Bulk', ' Bwd Avg Packets/Bulk',\n",
       "       'Bwd Avg Bulk Rate', 'Subflow Fwd Packets', ' Subflow Fwd Bytes',\n",
       "       ' Subflow Bwd Packets', ' Subflow Bwd Bytes', 'Init_Win_bytes_forward',\n",
       "       ' Init_Win_bytes_backward', ' act_data_pkt_fwd',\n",
       "       ' min_seg_size_forward', 'Active Mean', ' Active Std', ' Active Max',\n",
       "       ' Active Min', 'Idle Mean', ' Idle Std', ' Idle Max', ' Idle Min',\n",
       "       ' Label'],\n",
       "      dtype='object')"
      ]
     },
     "execution_count": 12,
     "metadata": {},
     "output_type": "execute_result"
    }
   ],
   "source": [
    "df.columns  # This will show the exact column names"
   ]
  },
  {
   "cell_type": "code",
   "execution_count": 13,
   "metadata": {},
   "outputs": [
    {
     "name": "stdout",
     "output_type": "stream",
     "text": [
      "Different Types of Attacks on the Server:\n"
     ]
    },
    {
     "data": {
      "text/plain": [
       " Label\n",
       "BENIGN                        2272688\n",
       "DoS Hulk                       230124\n",
       "PortScan                       158930\n",
       "DDoS                           128027\n",
       "DoS GoldenEye                   10293\n",
       "FTP-Patator                      7938\n",
       "SSH-Patator                      5897\n",
       "DoS slowloris                    5796\n",
       "DoS Slowhttptest                 5499\n",
       "Bot                              1966\n",
       "Web Attack � Brute Force         1507\n",
       "Web Attack � XSS                  652\n",
       "Infiltration                       36\n",
       "Web Attack � Sql Injection         21\n",
       "Heartbleed                         11\n",
       "Name: count, dtype: int64"
      ]
     },
     "execution_count": 13,
     "metadata": {},
     "output_type": "execute_result"
    }
   ],
   "source": [
    "# Shows attack types and their counts\n",
    "print(\"Different Types of Attacks on the Server:\")\n",
    "df[' Label'].value_counts()"
   ]
  },
  {
   "cell_type": "markdown",
   "metadata": {},
   "source": [
    "# **Handle missing values**"
   ]
  },
  {
   "cell_type": "code",
   "execution_count": 14,
   "metadata": {},
   "outputs": [],
   "source": [
    "df = df.dropna(thresh=len(df) * 0.4, axis=1)\n",
    "df.fillna(df.select_dtypes(include=['number']).median(), inplace=True)"
   ]
  },
  {
   "cell_type": "markdown",
   "metadata": {},
   "source": [
    "# **Encoding Categorical Variables**"
   ]
  },
  {
   "cell_type": "code",
   "execution_count": 15,
   "metadata": {},
   "outputs": [],
   "source": [
    "if 'Label' in df.columns:\n",
    "    label_encoder = LabelEncoder()\n",
    "    df['Label'] = label_encoder.fit_transform(df['Label'])"
   ]
  },
  {
   "cell_type": "code",
   "execution_count": 16,
   "metadata": {},
   "outputs": [],
   "source": [
    "from sklearn.preprocessing import StandardScaler\n",
    "import numpy as np\n",
    "\n",
    "# Select numeric columns\n",
    "numeric_features = df.select_dtypes(include=['number']).columns\n",
    "\n",
    "# Step 1: Replace infinite values with NaN\n",
    "df[numeric_features] = df[numeric_features].replace([np.inf, -np.inf], np.nan)\n",
    "\n",
    "# Step 2: Fill NaN values with the column median\n",
    "df[numeric_features] = df[numeric_features].fillna(df[numeric_features].median())\n",
    "\n",
    "# Step 3: Apply StandardScaler\n",
    "scaler = StandardScaler()\n",
    "df[numeric_features] = scaler.fit_transform(df[numeric_features])\n"
   ]
  },
  {
   "cell_type": "code",
   "execution_count": 17,
   "metadata": {},
   "outputs": [],
   "source": [
    "x = df[\" Label\"]"
   ]
  },
  {
   "cell_type": "code",
   "execution_count": 18,
   "metadata": {},
   "outputs": [
    {
     "data": {
      "text/plain": [
       "0          BENIGN\n",
       "1          BENIGN\n",
       "2          BENIGN\n",
       "3          BENIGN\n",
       "4          BENIGN\n",
       "            ...  \n",
       "2830738    BENIGN\n",
       "2830739    BENIGN\n",
       "2830740    BENIGN\n",
       "2830741    BENIGN\n",
       "2830742    BENIGN\n",
       "Name:  Label, Length: 2829385, dtype: object"
      ]
     },
     "execution_count": 18,
     "metadata": {},
     "output_type": "execute_result"
    }
   ],
   "source": [
    "x"
   ]
  },
  {
   "cell_type": "code",
   "execution_count": 19,
   "metadata": {},
   "outputs": [
    {
     "data": {
      "text/plain": [
       "array(['BENIGN', 'DDoS', 'PortScan', 'Bot', 'Infiltration',\n",
       "       'Web Attack � Brute Force', 'Web Attack � XSS',\n",
       "       'Web Attack � Sql Injection', 'FTP-Patator', 'SSH-Patator',\n",
       "       'DoS slowloris', 'DoS Slowhttptest', 'DoS Hulk', 'DoS GoldenEye',\n",
       "       'Heartbleed'], dtype=object)"
      ]
     },
     "execution_count": 19,
     "metadata": {},
     "output_type": "execute_result"
    }
   ],
   "source": [
    "arr = x\n",
    "x.unique()"
   ]
  },
  {
   "cell_type": "code",
   "execution_count": 20,
   "metadata": {},
   "outputs": [],
   "source": [
    "conditions = [\n",
    "    df[' Label'].isin([\"DDoS\", \"DoS slowloris\", \"DoS Slowhttptest\", \"DoS Hulk\", \"DoS GoldenEye\"]),\n",
    "    df[' Label'].isin([\"Web Attack � Brute Force\", \"Web Attack � XSS\", \"Web Attack � Sql Injection\"]),\n",
    "    df[' Label'].isin(['FTP-Patator', 'SSH-Patator']),\n",
    "]\n",
    "\n",
    "choices = ['DosFam', 'WebAttack', 'Patator']\n",
    "\n",
    "# Apply conditions to the 'Label' column\n",
    "df[' Label'] = np.select(conditions, choices, default=df[' Label'])"
   ]
  },
  {
   "cell_type": "code",
   "execution_count": 21,
   "metadata": {},
   "outputs": [
    {
     "data": {
      "text/plain": [
       "array(['BENIGN', 'DosFam', 'PortScan', 'Bot', 'Infiltration', 'WebAttack',\n",
       "       'Patator', 'Heartbleed'], dtype=object)"
      ]
     },
     "execution_count": 21,
     "metadata": {},
     "output_type": "execute_result"
    }
   ],
   "source": [
    "df[' Label'].unique()\n"
   ]
  },
  {
   "cell_type": "markdown",
   "metadata": {},
   "source": [
    "# ✅ STEP 3: Visualization"
   ]
  },
  {
   "cell_type": "code",
   "execution_count": 22,
   "metadata": {},
   "outputs": [
    {
     "data": {
      "text/plain": [
       "<Axes: xlabel=' Label', ylabel='Count'>"
      ]
     },
     "execution_count": 22,
     "metadata": {},
     "output_type": "execute_result"
    },
    {
     "data": {
      "image/png": "[encoded data removed]",
      "text/plain": [
       "<Figure size 1000x500 with 1 Axes>"
      ]
     },
     "metadata": {},
     "output_type": "display_data"
    }
   ],
   "source": [
    "import seaborn as sns\n",
    "import matplotlib.pyplot as plt\n",
    "plt.figure(figsize=(10, 5))\n",
    "sns.histplot(data=df,x=\" Label\",kde=True)"
   ]
  },
  {
   "cell_type": "code",
   "execution_count": 23,
   "metadata": {},
   "outputs": [
    {
     "data": {
      "text/plain": [
       "<Axes: xlabel=' Label', ylabel='count'>"
      ]
     },
     "execution_count": 23,
     "metadata": {},
     "output_type": "execute_result"
    },
    {
     "data": {
      "image/png": "[encoded data removed]",
      "text/plain": [
       "<Figure size 1000x500 with 1 Axes>"
      ]
     },
     "metadata": {},
     "output_type": "display_data"
    }
   ],
   "source": [
    "plt.figure(figsize=(10, 5))\n",
    "sns.countplot(data=df,x=\" Label\")"
   ]
  },
  {
   "cell_type": "code",
   "execution_count": 24,
   "metadata": {},
   "outputs": [
    {
     "name": "stdout",
     "output_type": "stream",
     "text": [
      " Label\n",
      "BENIGN          80.324452\n",
      "DosFam          13.421256\n",
      "PortScan         5.617122\n",
      "Patator          0.488976\n",
      "WebAttack        0.077049\n",
      "Bot              0.069485\n",
      "Infiltration     0.001272\n",
      "Heartbleed       0.000389\n",
      "Name: proportion, dtype: float64\n"
     ]
    }
   ],
   "source": [
    "label_percentages = df[' Label'].value_counts(normalize=True) * 100\n",
    "print(label_percentages)\n"
   ]
  },
  {
   "cell_type": "code",
   "execution_count": 25,
   "metadata": {},
   "outputs": [
    {
     "data": {
      "text/plain": [
       "array(['BENIGN', 'DosFam', 'PortScan', 'Bot', 'Infiltration', 'WebAttack',\n",
       "       'Patator', 'Heartbleed'], dtype=object)"
      ]
     },
     "execution_count": 25,
     "metadata": {},
     "output_type": "execute_result"
    }
   ],
   "source": [
    "df_attack = df.copy()\n",
    "df[' Label'].unique()"
   ]
  },
  {
   "cell_type": "code",
   "execution_count": 26,
   "metadata": {},
   "outputs": [
    {
     "data": {
      "text/html": [
       "<div>\n",
       "<style scoped>\n",
       "    .dataframe tbody tr th:only-of-type {\n",
       "        vertical-align: middle;\n",
       "    }\n",
       "\n",
       "    .dataframe tbody tr th {\n",
       "        vertical-align: top;\n",
       "    }\n",
       "\n",
       "    .dataframe thead th {\n",
       "        text-align: right;\n",
       "    }\n",
       "</style>\n",
       "<table border=\"1\" class=\"dataframe\">\n",
       "  <thead>\n",
       "    <tr style=\"text-align: right;\">\n",
       "      <th></th>\n",
       "      <th>Destination Port</th>\n",
       "      <th>Flow Duration</th>\n",
       "      <th>Total Fwd Packets</th>\n",
       "      <th>Total Backward Packets</th>\n",
       "      <th>Total Length of Fwd Packets</th>\n",
       "      <th>Total Length of Bwd Packets</th>\n",
       "      <th>Fwd Packet Length Max</th>\n",
       "      <th>Fwd Packet Length Min</th>\n",
       "      <th>Fwd Packet Length Mean</th>\n",
       "      <th>Fwd Packet Length Std</th>\n",
       "      <th>...</th>\n",
       "      <th>min_seg_size_forward</th>\n",
       "      <th>Active Mean</th>\n",
       "      <th>Active Std</th>\n",
       "      <th>Active Max</th>\n",
       "      <th>Active Min</th>\n",
       "      <th>Idle Mean</th>\n",
       "      <th>Idle Std</th>\n",
       "      <th>Idle Max</th>\n",
       "      <th>Idle Min</th>\n",
       "      <th>Label</th>\n",
       "    </tr>\n",
       "  </thead>\n",
       "  <tbody>\n",
       "    <tr>\n",
       "      <th>0</th>\n",
       "      <td>2.559353</td>\n",
       "      <td>-0.439473</td>\n",
       "      <td>-0.009822</td>\n",
       "      <td>-0.010423</td>\n",
       "      <td>-0.053778</td>\n",
       "      <td>-0.007144</td>\n",
       "      <td>-0.281176</td>\n",
       "      <td>-0.210806</td>\n",
       "      <td>-0.280608</td>\n",
       "      <td>-0.245131</td>\n",
       "      <td>...</td>\n",
       "      <td>0.002546</td>\n",
       "      <td>-0.125765</td>\n",
       "      <td>-0.104591</td>\n",
       "      <td>-0.149363</td>\n",
       "      <td>-0.101041</td>\n",
       "      <td>-0.352021</td>\n",
       "      <td>-0.109487</td>\n",
       "      <td>-0.356964</td>\n",
       "      <td>-0.339084</td>\n",
       "      <td>BENIGN</td>\n",
       "    </tr>\n",
       "    <tr>\n",
       "      <th>1</th>\n",
       "      <td>2.569690</td>\n",
       "      <td>-0.439469</td>\n",
       "      <td>-0.011155</td>\n",
       "      <td>-0.009421</td>\n",
       "      <td>-0.054378</td>\n",
       "      <td>-0.007141</td>\n",
       "      <td>-0.281176</td>\n",
       "      <td>-0.210806</td>\n",
       "      <td>-0.280608</td>\n",
       "      <td>-0.245131</td>\n",
       "      <td>...</td>\n",
       "      <td>0.002546</td>\n",
       "      <td>-0.125765</td>\n",
       "      <td>-0.104591</td>\n",
       "      <td>-0.149363</td>\n",
       "      <td>-0.101041</td>\n",
       "      <td>-0.352021</td>\n",
       "      <td>-0.109487</td>\n",
       "      <td>-0.356964</td>\n",
       "      <td>-0.339084</td>\n",
       "      <td>BENIGN</td>\n",
       "    </tr>\n",
       "    <tr>\n",
       "      <th>2</th>\n",
       "      <td>2.569745</td>\n",
       "      <td>-0.439471</td>\n",
       "      <td>-0.011155</td>\n",
       "      <td>-0.009421</td>\n",
       "      <td>-0.054378</td>\n",
       "      <td>-0.007141</td>\n",
       "      <td>-0.281176</td>\n",
       "      <td>-0.210806</td>\n",
       "      <td>-0.280608</td>\n",
       "      <td>-0.245131</td>\n",
       "      <td>...</td>\n",
       "      <td>0.002546</td>\n",
       "      <td>-0.125765</td>\n",
       "      <td>-0.104591</td>\n",
       "      <td>-0.149363</td>\n",
       "      <td>-0.101041</td>\n",
       "      <td>-0.352021</td>\n",
       "      <td>-0.109487</td>\n",
       "      <td>-0.356964</td>\n",
       "      <td>-0.339084</td>\n",
       "      <td>BENIGN</td>\n",
       "    </tr>\n",
       "    <tr>\n",
       "      <th>3</th>\n",
       "      <td>2.087396</td>\n",
       "      <td>-0.439472</td>\n",
       "      <td>-0.011155</td>\n",
       "      <td>-0.009421</td>\n",
       "      <td>-0.054378</td>\n",
       "      <td>-0.007141</td>\n",
       "      <td>-0.281176</td>\n",
       "      <td>-0.210806</td>\n",
       "      <td>-0.280608</td>\n",
       "      <td>-0.245131</td>\n",
       "      <td>...</td>\n",
       "      <td>0.002546</td>\n",
       "      <td>-0.125765</td>\n",
       "      <td>-0.104591</td>\n",
       "      <td>-0.149363</td>\n",
       "      <td>-0.101041</td>\n",
       "      <td>-0.352021</td>\n",
       "      <td>-0.109487</td>\n",
       "      <td>-0.356964</td>\n",
       "      <td>-0.339084</td>\n",
       "      <td>BENIGN</td>\n",
       "    </tr>\n",
       "    <tr>\n",
       "      <th>4</th>\n",
       "      <td>2.559244</td>\n",
       "      <td>-0.439473</td>\n",
       "      <td>-0.009822</td>\n",
       "      <td>-0.010423</td>\n",
       "      <td>-0.053778</td>\n",
       "      <td>-0.007144</td>\n",
       "      <td>-0.281176</td>\n",
       "      <td>-0.210806</td>\n",
       "      <td>-0.280608</td>\n",
       "      <td>-0.245131</td>\n",
       "      <td>...</td>\n",
       "      <td>0.002546</td>\n",
       "      <td>-0.125765</td>\n",
       "      <td>-0.104591</td>\n",
       "      <td>-0.149363</td>\n",
       "      <td>-0.101041</td>\n",
       "      <td>-0.352021</td>\n",
       "      <td>-0.109487</td>\n",
       "      <td>-0.356964</td>\n",
       "      <td>-0.339084</td>\n",
       "      <td>BENIGN</td>\n",
       "    </tr>\n",
       "  </tbody>\n",
       "</table>\n",
       "<p>5 rows × 79 columns</p>\n",
       "</div>"
      ],
      "text/plain": [
       "    Destination Port   Flow Duration   Total Fwd Packets  \\\n",
       "0           2.559353       -0.439473           -0.009822   \n",
       "1           2.569690       -0.439469           -0.011155   \n",
       "2           2.569745       -0.439471           -0.011155   \n",
       "3           2.087396       -0.439472           -0.011155   \n",
       "4           2.559244       -0.439473           -0.009822   \n",
       "\n",
       "    Total Backward Packets  Total Length of Fwd Packets  \\\n",
       "0                -0.010423                    -0.053778   \n",
       "1                -0.009421                    -0.054378   \n",
       "2                -0.009421                    -0.054378   \n",
       "3                -0.009421                    -0.054378   \n",
       "4                -0.010423                    -0.053778   \n",
       "\n",
       "    Total Length of Bwd Packets   Fwd Packet Length Max  \\\n",
       "0                     -0.007144               -0.281176   \n",
       "1                     -0.007141               -0.281176   \n",
       "2                     -0.007141               -0.281176   \n",
       "3                     -0.007141               -0.281176   \n",
       "4                     -0.007144               -0.281176   \n",
       "\n",
       "    Fwd Packet Length Min   Fwd Packet Length Mean   Fwd Packet Length Std  \\\n",
       "0               -0.210806                -0.280608               -0.245131   \n",
       "1               -0.210806                -0.280608               -0.245131   \n",
       "2               -0.210806                -0.280608               -0.245131   \n",
       "3               -0.210806                -0.280608               -0.245131   \n",
       "4               -0.210806                -0.280608               -0.245131   \n",
       "\n",
       "   ...   min_seg_size_forward  Active Mean   Active Std   Active Max  \\\n",
       "0  ...               0.002546    -0.125765    -0.104591    -0.149363   \n",
       "1  ...               0.002546    -0.125765    -0.104591    -0.149363   \n",
       "2  ...               0.002546    -0.125765    -0.104591    -0.149363   \n",
       "3  ...               0.002546    -0.125765    -0.104591    -0.149363   \n",
       "4  ...               0.002546    -0.125765    -0.104591    -0.149363   \n",
       "\n",
       "    Active Min  Idle Mean   Idle Std   Idle Max   Idle Min   Label  \n",
       "0    -0.101041  -0.352021  -0.109487  -0.356964  -0.339084  BENIGN  \n",
       "1    -0.101041  -0.352021  -0.109487  -0.356964  -0.339084  BENIGN  \n",
       "2    -0.101041  -0.352021  -0.109487  -0.356964  -0.339084  BENIGN  \n",
       "3    -0.101041  -0.352021  -0.109487  -0.356964  -0.339084  BENIGN  \n",
       "4    -0.101041  -0.352021  -0.109487  -0.356964  -0.339084  BENIGN  \n",
       "\n",
       "[5 rows x 79 columns]"
      ]
     },
     "execution_count": 26,
     "metadata": {},
     "output_type": "execute_result"
    }
   ],
   "source": [
    "import numpy as np\n",
    "\n",
    "cond = [\n",
    "    df_attack[' Label'].isin([\"DosFam\", \"PortScan\", \"Patator\", \"WebAttack\", \"Bot\",\"Infiltration\",\"Heartbleed\"]),\n",
    "]\n",
    "\n",
    "choic = ['Attack']\n",
    "\n",
    "# Apply conditions to the 'Label' column\n",
    "df_attack[' Label'] = np.select(cond, choic, default=df_attack[' Label'])\n",
    "\n",
    "# Display the modified DataFrame\n",
    "df_attack.head()"
   ]
  },
  {
   "cell_type": "code",
   "execution_count": 27,
   "metadata": {},
   "outputs": [
    {
     "data": {
      "text/plain": [
       "<Axes: xlabel=' Label', ylabel='Count'>"
      ]
     },
     "execution_count": 27,
     "metadata": {},
     "output_type": "execute_result"
    },
    {
     "data": {
      "image/png": "[encoded data removed]",
      "text/plain": [
       "<Figure size 640x480 with 1 Axes>"
      ]
     },
     "metadata": {},
     "output_type": "display_data"
    }
   ],
   "source": [
    "sns.histplot(data=df_attack,x=\" Label\")"
   ]
  },
  {
   "cell_type": "code",
   "execution_count": 28,
   "metadata": {},
   "outputs": [
    {
     "data": {
      "text/plain": [
       "<Axes: xlabel=' Label', ylabel='Count'>"
      ]
     },
     "execution_count": 28,
     "metadata": {},
     "output_type": "execute_result"
    },
    {
     "data": {
      "image/png": "[encoded data removed]",
      "text/plain": [
       "<Figure size 1000x500 with 1 Axes>"
      ]
     },
     "metadata": {},
     "output_type": "display_data"
    }
   ],
   "source": [
    "plt.figure(figsize=(10, 5))\n",
    "sns.histplot(data=df,x=\" Label\",kde=True)"
   ]
  },
  {
   "cell_type": "code",
   "execution_count": 29,
   "metadata": {},
   "outputs": [
    {
     "data": {
      "text/plain": [
       "<Axes: xlabel=' Label', ylabel='Count'>"
      ]
     },
     "execution_count": 29,
     "metadata": {},
     "output_type": "execute_result"
    },
    {
     "data": {
      "image/png": "[encoded data removed]",
      "text/plain": [
       "<Figure size 1000x500 with 1 Axes>"
      ]
     },
     "metadata": {},
     "output_type": "display_data"
    }
   ],
   "source": [
    "plt.figure(figsize=(10, 5))\n",
    "sns.histplot(data=df_attack,x=\" Label\",kde=True)"
   ]
  },
  {
   "cell_type": "markdown",
   "metadata": {},
   "source": [
    "# ✅ STEP 4: Spliting and training the Dataset\n"
   ]
  },
  {
   "cell_type": "code",
   "execution_count": 30,
   "metadata": {},
   "outputs": [],
   "source": [
    "from sklearn.model_selection import train_test_split\n",
    "from sklearn.metrics import accuracy_score, classification_report, confusion_matrix"
   ]
  },
  {
   "cell_type": "code",
   "execution_count": 31,
   "metadata": {},
   "outputs": [],
   "source": [
    "# Assign features (X) and target variable (y)\n",
    "label_column = ' Label'  # Change this if needed (e.g., 'Attack_Type', 'Category')\n",
    "if label_column not in df.columns:\n",
    "    raise KeyError(f\"Column '{label_column}' not found in dataset. Use the correct target column.\")\n",
    "\n",
    "X = df.drop(columns=[label_column])  # Features\n",
    "y = df[label_column]  # Target variable (attack category)\n",
    "\n",
    "# Split the dataset into training and testing sets\n",
    "X_train, X_test, y_train, y_test = train_test_split(X, y, test_size=0.2, random_state=42, stratify=y)"
   ]
  },
  {
   "cell_type": "markdown",
   "metadata": {},
   "source": [
    "# ✅ STEP 5: Train Random Forest Model\n"
   ]
  },
  {
   "cell_type": "code",
   "execution_count": 32,
   "metadata": {},
   "outputs": [
    {
     "name": "stdout",
     "output_type": "stream",
     "text": [
      "Model Accuracy: 0.9985\n",
      "Classification Report:\n",
      "               precision    recall  f1-score   support\n",
      "\n",
      "      BENIGN       1.00      1.00      1.00    454538\n",
      "         Bot       0.95      0.31      0.47       393\n",
      "      DosFam       1.00      1.00      1.00     75948\n",
      "  Heartbleed       1.00      1.00      1.00         2\n",
      "Infiltration       1.00      0.43      0.60         7\n",
      "     Patator       1.00      1.00      1.00      2767\n",
      "    PortScan       0.99      1.00      1.00     31786\n",
      "   WebAttack       0.99      0.83      0.90       436\n",
      "\n",
      "    accuracy                           1.00    565877\n",
      "   macro avg       0.99      0.82      0.87    565877\n",
      "weighted avg       1.00      1.00      1.00    565877\n",
      "\n",
      "Confusion Matrix:\n",
      " [[454203      6    153      0      0      0    174      2]\n",
      " [   270    123      0      0      0      0      0      0]\n",
      " [   104      0  75843      0      0      0      0      1]\n",
      " [     0      0      0      2      0      0      0      0]\n",
      " [     4      0      0      0      3      0      0      0]\n",
      " [     9      0      0      0      0   2758      0      0]\n",
      " [    13      0     13      0      0      0  31760      0]\n",
      " [    74      0      0      0      0      0      0    362]]\n"
     ]
    }
   ],
   "source": [
    "# Import Required Libraries\n",
    "from sklearn.ensemble import RandomForestClassifier\n",
    "\n",
    "# Train the Random Forest Model\n",
    "rf_model = RandomForestClassifier(n_estimators=50, max_depth=15, random_state=42, n_jobs=-1)\n",
    "\n",
    "# Train the model\n",
    "rf_model.fit(X_train, y_train)\n",
    "\n",
    "# Make predictions\n",
    "y_pred_rf = rf_model.predict(X_test)\n",
    "\n",
    "# Evaluate Model Performance\n",
    "accuracy_rf = accuracy_score(y_test, y_pred_rf)\n",
    "print(f\"Model Accuracy: {accuracy_rf:.4f}\")\n",
    "\n",
    "print(\"Classification Report:\\n\", classification_report(y_test, y_pred_rf))\n",
    "\n",
    "print(\"Confusion Matrix:\\n\", confusion_matrix(y_test, y_pred_rf))"
   ]
  },
  {
   "cell_type": "markdown",
   "metadata": {},
   "source": [
    "# ✅ STEP 6: Train Neural Network Model\n"
   ]
  },
  {
   "cell_type": "code",
   "execution_count": 45,
   "metadata": {},
   "outputs": [
    {
     "name": "stderr",
     "output_type": "stream",
     "text": [
      "c:\\Users\\srini\\anaconda3\\Lib\\site-packages\\sklearn\\neural_network\\_multilayer_perceptron.py:697: UserWarning: Training interrupted by user.\n",
      "  warnings.warn(\"Training interrupted by user.\")\n"
     ]
    },
    {
     "name": "stdout",
     "output_type": "stream",
     "text": [
      "Model Accuracy: 0.9985\n",
      "Accuracy: 0.9900\n",
      "Classification Report:\n",
      "               precision    recall  f1-score   support\n",
      "\n",
      "      BENIGN       0.99      0.99      0.99    454538\n",
      "         Bot       0.99      0.35      0.52       393\n",
      "      DosFam       0.98      0.99      0.98     75948\n",
      "  Heartbleed       1.00      1.00      1.00         2\n",
      "Infiltration       0.67      0.29      0.40         7\n",
      "     Patator       0.98      0.98      0.98      2767\n",
      "    PortScan       0.95      0.97      0.96     31786\n",
      "   WebAttack       0.89      0.08      0.14       436\n",
      "\n",
      "    accuracy                           0.99    565877\n",
      "   macro avg       0.93      0.71      0.75    565877\n",
      "weighted avg       0.99      0.99      0.99    565877\n",
      "\n",
      "Confusion Matrix:\n",
      " [[451657      1   1341      0      1     35   1499      4]\n",
      " [   254    139      0      0      0      0      0      0]\n",
      " [   933      0  75013      0      0      2      0      0]\n",
      " [     0      0      0      2      0      0      0      0]\n",
      " [     5      0      0      0      2      0      0      0]\n",
      " [    53      0      7      0      0   2707      0      0]\n",
      " [  1082      0     18      0      0      0  30686      0]\n",
      " [   373      0      2      0      0     27      0     34]]\n"
     ]
    }
   ],
   "source": [
    "from sklearn.neural_network import MLPClassifier\n",
    "from sklearn.metrics import accuracy_score, classification_report, confusion_matrix\n",
    "\n",
    "# Initialize the Neural Network (MLP Classifier)\n",
    "nn_model = MLPClassifier(hidden_layer_sizes=(128, 64), activation='relu', solver='adam', max_iter=200, random_state=42)\n",
    "\n",
    "# Train the model\n",
    "nn_model.fit(X_train, y_train)\n",
    "\n",
    "# Make predictions\n",
    "y_pred_nn = nn_model.predict(X_test)\n",
    "\n",
    "# Evaluate Model Performance\n",
    "accuracy_nm = accuracy_score(y_test, y_pred_rf)\n",
    "print(f\"Model Accuracy: {accuracy_nm:.4f}\")\n",
    "\n",
    "# Evaluate Performance\n",
    "print(f\"Accuracy: {accuracy_score(y_test, y_pred_nn):.4f}\")\n",
    "print(\"Classification Report:\\n\", classification_report(y_test, y_pred_nn))\n",
    "print(\"Confusion Matrix:\\n\", confusion_matrix(y_test, y_pred_nn))"
   ]
  },
  {
   "cell_type": "markdown",
   "metadata": {},
   "source": [
    "# ✅ STEP 7: Compare Model Performance\n"
   ]
  },
  {
   "cell_type": "code",
   "execution_count": 46,
   "metadata": {},
   "outputs": [],
   "source": [
    "from sklearn.metrics import accuracy_score, precision_score, recall_score, f1_score, classification_report"
   ]
  },
  {
   "cell_type": "code",
   "execution_count": 47,
   "metadata": {},
   "outputs": [],
   "source": [
    "def evaluate_model(model_name, y_test, y_pred):\n",
    "    print(f\"📊 Performance of {model_name}:\")\n",
    "    print(f\"✅ Accuracy: {accuracy_score(y_test, y_pred):.4f}\")\n",
    "    print(f\"✅ Precision: {precision_score(y_test, y_pred, average='weighted'):.4f}\")\n",
    "    print(f\"✅ Recall: {recall_score(y_test, y_pred, average='weighted'):.4f}\")\n",
    "    print(f\"✅ F1-Score: {f1_score(y_test, y_pred, average='weighted'):.4f}\")\n",
    "    print(\"\\nClassification Report:\\n\", classification_report(y_test, y_pred))\n",
    "    print(\"-\" * 50)"
   ]
  },
  {
   "cell_type": "code",
   "execution_count": 48,
   "metadata": {},
   "outputs": [
    {
     "name": "stdout",
     "output_type": "stream",
     "text": [
      "📊 Performance of Random Forest:\n",
      "✅ Accuracy: 0.9985\n",
      "✅ Precision: 0.9985\n",
      "✅ Recall: 0.9985\n",
      "✅ F1-Score: 0.9984\n",
      "\n",
      "Classification Report:\n",
      "               precision    recall  f1-score   support\n",
      "\n",
      "      BENIGN       1.00      1.00      1.00    454538\n",
      "         Bot       0.95      0.31      0.47       393\n",
      "      DosFam       1.00      1.00      1.00     75948\n",
      "  Heartbleed       1.00      1.00      1.00         2\n",
      "Infiltration       1.00      0.43      0.60         7\n",
      "     Patator       1.00      1.00      1.00      2767\n",
      "    PortScan       0.99      1.00      1.00     31786\n",
      "   WebAttack       0.99      0.83      0.90       436\n",
      "\n",
      "    accuracy                           1.00    565877\n",
      "   macro avg       0.99      0.82      0.87    565877\n",
      "weighted avg       1.00      1.00      1.00    565877\n",
      "\n",
      "--------------------------------------------------\n",
      "📊 Performance of Neural Network:\n",
      "✅ Accuracy: 0.9900\n",
      "✅ Precision: 0.9900\n",
      "✅ Recall: 0.9900\n",
      "✅ F1-Score: 0.9896\n",
      "\n",
      "Classification Report:\n",
      "               precision    recall  f1-score   support\n",
      "\n",
      "      BENIGN       0.99      0.99      0.99    454538\n",
      "         Bot       0.99      0.35      0.52       393\n",
      "      DosFam       0.98      0.99      0.98     75948\n",
      "  Heartbleed       1.00      1.00      1.00         2\n",
      "Infiltration       0.67      0.29      0.40         7\n",
      "     Patator       0.98      0.98      0.98      2767\n",
      "    PortScan       0.95      0.97      0.96     31786\n",
      "   WebAttack       0.89      0.08      0.14       436\n",
      "\n",
      "    accuracy                           0.99    565877\n",
      "   macro avg       0.93      0.71      0.75    565877\n",
      "weighted avg       0.99      0.99      0.99    565877\n",
      "\n",
      "--------------------------------------------------\n"
     ]
    }
   ],
   "source": [
    "# Evaluate Random Forest\n",
    "evaluate_model(\"Random Forest\", y_test, y_pred_rf)\n",
    "\n",
    "# Evaluate Neural Network\n",
    "evaluate_model(\"Neural Network\", y_test, y_pred_nn)"
   ]
  },
  {
   "cell_type": "markdown",
   "metadata": {},
   "source": [
    "# ✅ STEP 8: Visualization - Confusion Matrix\n"
   ]
  },
  {
   "cell_type": "code",
   "execution_count": 49,
   "metadata": {},
   "outputs": [
    {
     "data": {
      "image/png": "[encoded data removed]",
      "text/plain": [
       "<Figure size 600x400 with 1 Axes>"
      ]
     },
     "metadata": {},
     "output_type": "display_data"
    },
    {
     "data": {
      "image/png": "[encoded data removed]",
      "text/plain": [
       "<Figure size 600x400 with 1 Axes>"
      ]
     },
     "metadata": {},
     "output_type": "display_data"
    }
   ],
   "source": [
    "import matplotlib.pyplot as plt\n",
    "import seaborn as sns\n",
    "from sklearn.metrics import ConfusionMatrixDisplay\n",
    "\n",
    "# Plot Confusion Matrix for Random Forest\n",
    "plt.figure(figsize=(6, 4))\n",
    "sns.heatmap(confusion_matrix(y_test, y_pred_rf), annot=True, fmt=\"d\", cmap=\"Blues\", cbar=False)\n",
    "plt.title(\"Confusion Matrix - Random Forest\")\n",
    "plt.xlabel(\"Predicted Label\")\n",
    "plt.ylabel(\"True Label\")\n",
    "plt.show()\n",
    "\n",
    "# Plot Confusion Matrix for Neural Network\n",
    "plt.figure(figsize=(6, 4))\n",
    "sns.heatmap(confusion_matrix(y_test, y_pred_nn), annot=True, fmt=\"d\", cmap=\"Oranges\", cbar=False)\n",
    "plt.title(\"Confusion Matrix - Neural Network\")\n",
    "plt.xlabel(\"Predicted Label\")\n",
    "plt.ylabel(\"True Label\")\n",
    "plt.show()"
   ]
  },
  {
   "cell_type": "markdown",
   "metadata": {},
   "source": [
    "# ✅ STEP 9: Visualization - Feature Importance\n"
   ]
  },
  {
   "cell_type": "code",
   "execution_count": 50,
   "metadata": {},
   "outputs": [
    {
     "name": "stderr",
     "output_type": "stream",
     "text": [
      "C:\\Users\\srini\\AppData\\Local\\Temp\\ipykernel_17768\\1893282543.py:10: FutureWarning: \n",
      "\n",
      "Passing `palette` without assigning `hue` is deprecated and will be removed in v0.14.0. Assign the `y` variable to `hue` and set `legend=False` for the same effect.\n",
      "\n",
      "  sns.barplot(x=feature_importance[sorted_idx][:10], y=features[sorted_idx][:10], palette=\"viridis\")\n"
     ]
    },
    {
     "data": {
      "image/png": "[encoded data removed]",
      "text/plain": [
       "<Figure size 800x500 with 1 Axes>"
      ]
     },
     "metadata": {},
     "output_type": "display_data"
    }
   ],
   "source": [
    "# Get feature importance\n",
    "feature_importance = rf_model.feature_importances_\n",
    "features = X_train.columns  # Assuming X_train is a DataFrame\n",
    "\n",
    "# Sort features by importance\n",
    "sorted_idx = np.argsort(feature_importance)[::-1]\n",
    "\n",
    "# Plot feature importance\n",
    "plt.figure(figsize=(8, 5))\n",
    "sns.barplot(x=feature_importance[sorted_idx][:10], y=features[sorted_idx][:10], palette=\"viridis\")\n",
    "plt.title(\"Top 10 Feature Importance - Random Forest\")\n",
    "plt.xlabel(\"Importance Score\")\n",
    "plt.ylabel(\"Feature Name\")\n",
    "plt.show()\n"
   ]
  },
  {
   "cell_type": "markdown",
   "metadata": {},
   "source": [
    "# ✅ STEP 10: Save Results & Model\n"
   ]
  },
  {
   "cell_type": "code",
   "execution_count": 61,
   "metadata": {},
   "outputs": [
    {
     "name": "stderr",
     "output_type": "stream",
     "text": [
      "C:\\Users\\srini\\AppData\\Local\\Temp\\ipykernel_17768\\862130676.py:9: FutureWarning: \n",
      "\n",
      "Passing `palette` without assigning `hue` is deprecated and will be removed in v0.14.0. Assign the `x` variable to `hue` and set `legend=False` for the same effect.\n",
      "\n",
      "  sns.barplot(x=\"Model\", y=\"Accuracy\", data=performance_df, palette=\"coolwarm\")\n"
     ]
    },
    {
     "data": {
      "image/png": "[encoded data removed]",
      "text/plain": [
       "<Figure size 600x400 with 1 Axes>"
      ]
     },
     "metadata": {},
     "output_type": "display_data"
    }
   ],
   "source": [
    "# Create a DataFrame to compare model performance\n",
    "performance_df = pd.DataFrame({\n",
    "    \"Model\": [\"Random Forest\", \"Neural Network\"],\n",
    "    \"Accuracy\": [accuracy_rf, accuracy_nm]\n",
    "})\n",
    "\n",
    "# Plot performance\n",
    "plt.figure(figsize=(6, 4))\n",
    "sns.barplot(x=\"Model\", y=\"Accuracy\", data=performance_df, palette=\"coolwarm\")\n",
    "plt.title(\"Model Accuracy Comparison\")\n",
    "plt.ylim(0.99, 1)\n",
    "plt.show()\n"
   ]
  }
 ],
 "metadata": {
  "kernelspec": {
   "display_name": "base",
   "language": "python",
   "name": "python3"
  },
  "language_info": {
   "codemirror_mode": {
    "name": "ipython",
    "version": 3
   },
   "file_extension": ".py",
   "mimetype": "text/x-python",
   "name": "python",
   "nbconvert_exporter": "python",
   "pygments_lexer": "ipython3",
   "version": "3.12.7"
  }
 },
 "nbformat": 4,
 "nbformat_minor": 2
}
